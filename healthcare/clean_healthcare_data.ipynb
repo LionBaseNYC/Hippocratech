{
 "cells": [
  {
   "cell_type": "markdown",
   "metadata": {},
   "source": [
    "# Hippocratech Healthcare Data\n",
    "\n",
    "_April 15th, 2019_\n",
    "\n",
    "There're datasets for quarter 4 from 2012 to 2018. We cleaned and combine datasets from 2014 to 2017.\n",
    "\n",
    "## Table of Contents\n",
    "\n",
    "<div class='alert alert-block alert-info' style='margin-top: 20px'>\n",
    "    <li><a href='#ref1'>1. Data Preprocessing</a>\n",
    "    <li><a href='#ref2'>2. </a>\n",
    "</div>\n",
    "\n",
    "<a id='ref1'></a>\n",
    "## 1. Data Preprocessing"
   ]
  },
  {
   "cell_type": "code",
   "execution_count": 2,
   "metadata": {},
   "outputs": [],
   "source": [
    "import pandas as pd\n",
    "import zipfile"
   ]
  },
  {
   "cell_type": "code",
   "execution_count": 56,
   "metadata": {},
   "outputs": [],
   "source": [
    "def read_data(year, zipname, csvname):\n",
    "    zf = zipfile.ZipFile('./data/%s' % zipname)\n",
    "    \n",
    "    if year in [2017, 2016]:\n",
    "        data = pd.read_csv(zf.open('%s' % csvname),\n",
    "                           usecols = ['SiteName_std', 'City_std', 'State_std', 'Zip_std', \n",
    "                                      'TrueCountyName', 'desser'], # desser - Designated Service\n",
    "                           dtype = {'Zip_std': object})\n",
    "        data.rename(columns={'SiteName_std':'sitename', 'City_std':'city', 'State_std':'state', \n",
    "                             'Zip_std':'zip', 'TrueCountyName':'county'}, inplace=True)\n",
    "        # inplace - Whether to return a new DataFrame. If True then value of copy is ignored.\n",
    "        data.rename(str.lower, axis='columns', inplace=True)\n",
    "    \n",
    "    elif year in [2015, 2014]:\n",
    "        data = pd.read_csv(zf.open('%s' % csvname),\n",
    "                           usecols = ['sitename', 'city', 'state', 'zip',\n",
    "                                      'county', 'desser'], # desser - Designated Service\n",
    "                           dtype = {'zip': object})\n",
    "    \n",
    "    data['year'] = year\n",
    "    \n",
    "    return data"
   ]
  },
  {
   "cell_type": "markdown",
   "metadata": {},
   "source": [
    "The counties New York City are:\n",
    "\n",
    "005 - Bronx\n",
    "\n",
    "047 - Kings (Brooklyn)\n",
    "\n",
    "061 - New York (Manhattan)\n",
    "\n",
    "081 - Queens\n",
    "\n",
    "085 - Richmond (Staten Island)"
   ]
  },
  {
   "cell_type": "code",
   "execution_count": 57,
   "metadata": {},
   "outputs": [],
   "source": [
    "def clean_data(year, data):    \n",
    "    # 1. New York State\n",
    "    data_ny = data[data.state == 'NY']\n",
    "    \n",
    "    # 2. New York City\n",
    "    data_ny2 = data_ny.copy()\n",
    "    if year in [2015, 2014]:\n",
    "        data_ny2.loc[:,['county']] = data_ny.county.replace({5: 'Bronx', 47: 'Kings', 61: 'New York', \n",
    "                                                 81: 'Queens', 85: 'Richmond'})\n",
    "    \n",
    "    nyc_counties = ['Bronx', 'Kings', 'New York', 'Queens', 'Richmond']\n",
    "    data_nyc = data_ny2[data_ny2.county.isin(nyc_counties)]\n",
    "    \n",
    "    # 3. Check services and remove pharmacy\n",
    "    data_noPharma = data_nyc[~(data_nyc.desser == 760)]\n",
    "    \n",
    "    return data_noPharma"
   ]
  },
  {
   "cell_type": "code",
   "execution_count": 63,
   "metadata": {},
   "outputs": [],
   "source": [
    "zip_and_csv = [[2017, \n",
    "                'NYSDOH_PNDS_InstitutionalProviderData_2017Q4.zip', \n",
    "                'PNDS_Institutional_Q417.csv'],\n",
    "               [2016, \n",
    "                'NYSDOH_PNDS_InstitutionalProviderData_2016_Q04.zip', \n",
    "                'PNDS_Institutional_Q416_v2.csv'],\n",
    "               [2015, \n",
    "                'NYSDOH_PNDS_InstitutionalProviderData_2015_Q04.zip', \n",
    "                'NYSDOH_PNDS_InstitutionalProviderData_2015_Q04.csv'],\n",
    "               [2014, \n",
    "                'NYSDOH_PNDS_InstitutionalProviderData_2014Q4.zip',\n",
    "                'NYSDOH_PNDS_InstitutionalProviderData_2014Q4.csv']]"
   ]
  },
  {
   "cell_type": "code",
   "execution_count": 86,
   "metadata": {},
   "outputs": [
    {
     "name": "stdout",
     "output_type": "stream",
     "text": [
      "CPU times: user 12.9 s, sys: 1.05 s, total: 14 s\n",
      "Wall time: 12.9 s\n"
     ]
    }
   ],
   "source": [
    "# Combine datasets from 2014 to 2017\n",
    "%%time\n",
    "appended_data = []\n",
    "for i in zip_and_csv:\n",
    "    readdata = read_data(year=i[0], zipname=i[1], csvname=i[2])\n",
    "    cleandata = clean_data(year=i[0], data=readdata)\n",
    "    appended_data.append(cleandata)\n",
    "    \n",
    "data14to17 = pd.concat(appended_data, sort=True)\n",
    "\n",
    "# Remove duplicates\n",
    "data14to17_noDup = data14to17.drop_duplicates()"
   ]
  },
  {
   "cell_type": "code",
   "execution_count": null,
   "metadata": {},
   "outputs": [],
   "source": [
    "# Export to csv file\n",
    "data14to17_noDup.to_csv('./data/institutional_provider_2014to2017_q4.csv')"
   ]
  }
 ],
 "metadata": {
  "kernelspec": {
   "display_name": "Python 3",
   "language": "python",
   "name": "python3"
  },
  "language_info": {
   "codemirror_mode": {
    "name": "ipython",
    "version": 3
   },
   "file_extension": ".py",
   "mimetype": "text/x-python",
   "name": "python",
   "nbconvert_exporter": "python",
   "pygments_lexer": "ipython3",
   "version": "3.6.5"
  }
 },
 "nbformat": 4,
 "nbformat_minor": 2
}
